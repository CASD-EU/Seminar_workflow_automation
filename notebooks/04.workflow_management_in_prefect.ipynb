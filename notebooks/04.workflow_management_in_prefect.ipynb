{
 "cells": [
  {
   "metadata": {
    "collapsed": true
   },
   "cell_type": "markdown",
   "source": [
    "# Workflow management\n",
    "\n",
    "As we explained before, the concept of `task` and `workflow` are essential for workflow automation.\n",
    "\n",
    "## Task in prefect\n",
    "\n",
    "A `task` is an atomic unit of computation (e.g. function, script, or command). In `Prefect`, we use the `@task` decorator to define a task. The `@task` decorator contains a list of parameter which allows us to configure the task.\n",
    "\n",
    "Below code shows a general form on how to define a task in Prefect\n",
    "\n",
    "```python\n",
    "from prefect import task\n",
    "\n",
    "@task(\n",
    "    name=\"task1\",\n",
    "    description=\"task 1 of my workflow\",\n",
    "    tags=[\"test\", \"task\"],\n",
    "    retries=3,\n",
    "    retry_delay_seconds=30,\n",
    "    timeout_seconds=120,\n",
    "    persist_result=False,\n",
    "    cache_key_fn=None,\n",
    "    cache_expiration=None,\n",
    "    log_prints=True,\n",
    "    on_failure=lambda exc: print(\"Failed:\", exc),\n",
    ")\n",
    "def task1(input: str)->str:\n",
    "    ...\n",
    "\n",
    "```\n",
    "\n",
    "|      Parameter       |        Type         |                       Description                       |                \tBest Practice                 |\n",
    "|:--------------------:|:-------------------:|:-------------------------------------------------------:|:---------------------------------------------:|\n",
    "|        name\t         |         str         |                 \tName shown in UI/logs.                 | \tMatch task purpose (e.g., transform_sales).  |\n",
    "|     description      |         str         |                \tHuman-readable summary.                 |         \tInclude inputs/outputs info.         |\n",
    "|         tags         |      list[str]      |       \tArbitrary labels for grouping/monitoring.        |       \tUse for filtering or scheduling.       |\n",
    "|       retries        |         int         |               \tNumber of retry attempts.                |          \tRetry transient I/O tasks.          |\n",
    "| retry_delay_seconds  |         int         |               \tWait time between retries.               |         \tCombine with retries above.          |\n",
    "|   timeout_seconds    |         int         |              \tTask execution hard timeout.              |        \tSet based on task complexity.         |\n",
    "|    persist_result    |        bool         |            \tStore task output persistently.             |      \tTrue for cached or reused results.      |\n",
    "|     cache_key_fn     |      Callable       | \tFunction to compute custom cache key based on inputs.  |     \tUse for deterministic results reuse.     |\n",
    "|   cache_expiration   | datetime.timedelta  |             \tExpiry time of cached result.              |    \te.g., refresh every 24h for ETL jobs.     |\n",
    "|      log_prints      |        bool         |        \tCapture print() output in Prefect logs.         |         \tAlways True in development.          |\n",
    "|      on_failure      |      Callable       |         \tCallback triggered upon task failure.          |        \tSend alerts or rollback logic.        |"
   ],
   "id": "6baa9c55e0106f82"
  },
  {
   "metadata": {},
   "cell_type": "code",
   "outputs": [],
   "execution_count": null,
   "source": "",
   "id": "289c6c50e65ddc39"
  },
  {
   "metadata": {},
   "cell_type": "code",
   "outputs": [],
   "execution_count": null,
   "source": "",
   "id": "8d68ec2a93ece4a0"
  },
  {
   "metadata": {},
   "cell_type": "code",
   "outputs": [],
   "execution_count": null,
   "source": "",
   "id": "74eb0fe643efa24"
  },
  {
   "metadata": {},
   "cell_type": "code",
   "outputs": [],
   "execution_count": null,
   "source": "",
   "id": "aee430e11b92ce41"
  },
  {
   "metadata": {},
   "cell_type": "code",
   "outputs": [],
   "execution_count": null,
   "source": "",
   "id": "739d14fff8ae4789"
  }
 ],
 "metadata": {
  "kernelspec": {
   "display_name": "Python 3",
   "language": "python",
   "name": "python3"
  },
  "language_info": {
   "codemirror_mode": {
    "name": "ipython",
    "version": 2
   },
   "file_extension": ".py",
   "mimetype": "text/x-python",
   "name": "python",
   "nbconvert_exporter": "python",
   "pygments_lexer": "ipython2",
   "version": "2.7.6"
  }
 },
 "nbformat": 4,
 "nbformat_minor": 5
}
