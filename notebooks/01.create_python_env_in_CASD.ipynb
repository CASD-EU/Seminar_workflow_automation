{
 "cells": [
  {
   "metadata": {},
   "cell_type": "markdown",
   "source": [
    "# Create a python environment in CASD\n",
    "\n",
    "In this tutorial, we will show you how to create a python environment in CASD.\n",
    "\n",
    "We will use **conda** throughout this tutorial.\n",
    "\n",
    "\n",
    "## 1. Create a python virtual environment\n",
    "\n",
    "Follow the below steps to create your first python virtual environment in CASD.\n",
    "\n",
    "```powershell\n",
    "1. Check if conda exists in the current shell\n",
    "conda --version\n",
    "# enable conda cmd in powershell (optional)\n",
    "conda init powershell\n",
    "\n",
    "# 2. create a virtual environment\n",
    "conda create --name project-name python=python-version --offline\n",
    "# view existing virtual environment list\n",
    "conda env list\n",
    "# check status of a virtual environment\n",
    "conda info --envs\n",
    "\n",
    "# 3. activate a virtual environment\n",
    "conda activate project-name\n",
    "\n",
    "# 4. manage packages of your porject\n",
    "# check installed package list\n",
    "pip list\n",
    "# install a new package, make sure the casd pypi server is on\n",
    "pip install pandas\n",
    "# install package via requirements.txt\n",
    "pip install -r requirements.txt\n",
    "\n",
    "# 5. Run your code\n",
    "cd /path/to/project-name\n",
    "python main.py\n",
    "\n",
    "# 6. Remove a virtual environment\n",
    "conda remove -n env_name --all\n",
    "```"
   ],
   "id": "aa699473f4189c13"
  },
  {
   "metadata": {
    "ExecuteTime": {
     "end_time": "2025-07-25T12:39:29.065669Z",
     "start_time": "2025-07-25T12:39:29.000768Z"
    }
   },
   "cell_type": "code",
   "source": "! conda --version",
   "id": "6cc1a6023a6fbfac",
   "outputs": [
    {
     "name": "stderr",
     "output_type": "stream",
     "text": [
      "'conda' is not recognized as an internal or external command,\n",
      "operable program or batch file.\n"
     ]
    }
   ],
   "execution_count": 3
  },
  {
   "metadata": {},
   "cell_type": "markdown",
   "source": [
    "## 1.1 Add conda to powershell\n",
    "\n",
    "If you see output like `'conda' is not recognized as an internal or external command`\n",
    "\n",
    "You need to open `Bureau`->`Raccourcis`->`Python`, click on **Miniconda Prompt Python 3.11**.\n",
    "\n",
    "In the prompt shell, execute `conda init powershell`"
   ],
   "id": "a6b9b407e512ca8"
  },
  {
   "metadata": {},
   "cell_type": "markdown",
   "source": [
    "## 1.2 Activate casd pypi server\n",
    "\n",
    "\n",
    "You need to open `Bureau`->`Raccourcis`->`Python`, click on **pip-install-package**.\n",
    "\n",
    "> You should see a pop-up terminal\n"
   ],
   "id": "58fbbc8fc6caff5b"
  },
  {
   "metadata": {},
   "cell_type": "markdown",
   "source": [
    "## 2. Setup vscode for python\n",
    "\n",
    "1. Open vscode, click on `extensions` tab.\n",
    "2. Click on `Views and More Actions` -> `Install from VSIS`\n",
    "3. Select the `extension_name.vsix`\n",
    "\n",
    "> The .vsix files are located at `S:\\VsCode\\`.\n",
    "> We recommend you to install extension for `Python, Git, and Markdown`.\n",
    "\n",
    "### 2.1 Open your python project with vscode\n",
    "\n",
    "1. Copy the src file to your workspace.\n",
    "2. Open vscode, click on `File` tab -> `Open folder`.\n",
    "3. Associate a virtual environment to your project.\n"
   ],
   "id": "fade6f4e08d4d5ed"
  },
  {
   "metadata": {},
   "cell_type": "code",
   "outputs": [],
   "execution_count": null,
   "source": "",
   "id": "d2c767e1574478cb"
  }
 ],
 "metadata": {
  "kernelspec": {
   "display_name": "Python 3",
   "language": "python",
   "name": "python3"
  },
  "language_info": {
   "codemirror_mode": {
    "name": "ipython",
    "version": 2
   },
   "file_extension": ".py",
   "mimetype": "text/x-python",
   "name": "python",
   "nbconvert_exporter": "python",
   "pygments_lexer": "ipython2",
   "version": "2.7.6"
  }
 },
 "nbformat": 4,
 "nbformat_minor": 5
}
